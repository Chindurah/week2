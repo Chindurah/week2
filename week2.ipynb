{
 "cells": [
  {
   "cell_type": "raw",
   "id": "06ec2e99-77c4-4d86-a951-0811a8ace93c",
   "metadata": {},
   "source": [
    "Q1. How do you comment code in Python? What are the different types of comments?\n",
    "\n",
    "We can comment code in python by adding a hash symbol if it is a single line comment and we can add hash to each line if it is a multiline comment but the best practice for multiline comments is writing the comments inside triple quotes."
   ]
  },
  {
   "cell_type": "code",
   "execution_count": null,
   "id": "4e4add45-3a84-4709-9780-18bb475a114d",
   "metadata": {},
   "outputs": [],
   "source": [
    "#this is a comment\n",
    "\"\"\"this program\n",
    "is done by me\"\"\""
   ]
  },
  {
   "cell_type": "raw",
   "id": "7d9c6ae4-7b62-4bc7-b68d-4c3088d8904f",
   "metadata": {},
   "source": [
    "Q2. What are variables in Python? How do you declare and assign values to variables?\n",
    "\n",
    "ANSWER:\n",
    "Variables are containers which store value and its value can be changed during the execution of the program."
   ]
  },
  {
   "cell_type": "code",
   "execution_count": 1,
   "id": "a38cd06b-b7bc-47c7-a2e1-ff1d69452fbb",
   "metadata": {},
   "outputs": [],
   "source": [
    "a=10"
   ]
  },
  {
   "cell_type": "raw",
   "id": "eb1404e4-eae3-4997-aea2-88eeb99b6b91",
   "metadata": {},
   "source": [
    "Q3. How do you convert one data type to another in Python?\n",
    "\n",
    "ANSWER:\n",
    "In python we can convert one data type to another using type conversion method."
   ]
  },
  {
   "cell_type": "code",
   "execution_count": 3,
   "id": "d5e823a8-eac1-4739-bb89-76cf76a78c7f",
   "metadata": {},
   "outputs": [
    {
     "data": {
      "text/plain": [
       "6.0"
      ]
     },
     "execution_count": 3,
     "metadata": {},
     "output_type": "execute_result"
    }
   ],
   "source": [
    "b=float(6)\n",
    "b"
   ]
  },
  {
   "cell_type": "raw",
   "id": "a8f193ad-8c1d-4ec0-af61-b67abd194019",
   "metadata": {},
   "source": [
    "Q4. How do you write and execute a Python script from the command line?\n",
    "\n",
    "ANSWER:Open a text editor and for example type print(\"hello world\") and save it with the .py extension.Suppose let me save this as pw.py.\n",
    "Then open a command line type the following:\n",
    "python pw.py\n",
    "the you will get the output on the next line as:\n",
    "hello world"
   ]
  },
  {
   "cell_type": "raw",
   "id": "9c26420e-3214-4266-b8c1-6741e5b6d45e",
   "metadata": {},
   "source": [
    "Q5. Given a list my_list = [1, 2, 3, 4, 5], write the code to slice the list and obtain the sub-list [2, 3]."
   ]
  },
  {
   "cell_type": "code",
   "execution_count": 4,
   "id": "eceb260c-81b5-4c5c-a954-351e7960f891",
   "metadata": {},
   "outputs": [
    {
     "data": {
      "text/plain": [
       "[2, 3]"
      ]
     },
     "execution_count": 4,
     "metadata": {},
     "output_type": "execute_result"
    }
   ],
   "source": [
    "my_list=[1,2,3,4,5]\n",
    "new=my_list[1:3]\n",
    "new"
   ]
  },
  {
   "cell_type": "raw",
   "id": "2773ca16-3db4-4a94-83d6-fba00c0fb08d",
   "metadata": {},
   "source": [
    "Q6. What is a complex number in mathematics, and how is it represented in Python?\n",
    "ANSWER:\n",
    "Complex number is represented in the form of a+bj,where a is the real part and b is the imaginary part\n",
    "\n"
   ]
  },
  {
   "cell_type": "code",
   "execution_count": 6,
   "id": "e793fca1-b357-47ba-8763-b0b8f30f69fe",
   "metadata": {},
   "outputs": [
    {
     "name": "stdout",
     "output_type": "stream",
     "text": [
      "7.0\n",
      "3.0\n"
     ]
    }
   ],
   "source": [
    "a=7+3j\n",
    "print(a.real)\n",
    "print(a.imag)"
   ]
  },
  {
   "cell_type": "raw",
   "id": "d00fb6b1-9839-47ec-bbbe-646ace4ab042",
   "metadata": {},
   "source": [
    "Q7. What is the correct way to declare a variable named age and assign the value 25 to it?"
   ]
  },
  {
   "cell_type": "code",
   "execution_count": null,
   "id": "b779ba3a-615d-4cea-8444-5718fad64b63",
   "metadata": {},
   "outputs": [],
   "source": [
    "#the correct way is\n",
    "age=25"
   ]
  },
  {
   "cell_type": "raw",
   "id": "a5e5169d-65fa-4a1b-befb-af13244e3aa9",
   "metadata": {},
   "source": [
    "Q8. Declare a variable named price and assign the value 9.99 to it. What data type does this variable\n",
    "belong to?"
   ]
  },
  {
   "cell_type": "code",
   "execution_count": 7,
   "id": "5d333ddd-661d-4754-975a-06b8bb5ab528",
   "metadata": {},
   "outputs": [],
   "source": [
    "price=9.99\n",
    "#this variable belong to the type float"
   ]
  },
  {
   "cell_type": "raw",
   "id": "5610bb07-c67f-4aac-acbe-ccb3dbc03a99",
   "metadata": {},
   "source": [
    "Q9. Create a variable named name and assign your full name to it as a string. How would you print the\n",
    "value of this variable?"
   ]
  },
  {
   "cell_type": "code",
   "execution_count": 8,
   "id": "2140f0c9-c872-4043-b276-bc36b5801c92",
   "metadata": {},
   "outputs": [
    {
     "name": "stdout",
     "output_type": "stream",
     "text": [
      "chindurah\n"
     ]
    }
   ],
   "source": [
    "name=\"chindurah\"\n",
    "#we can use print function to print the value of the variable name\n",
    "print(name)"
   ]
  },
  {
   "cell_type": "raw",
   "id": "3bdfba22-0a8e-4092-b797-94fb9f6715d2",
   "metadata": {},
   "source": [
    "Q10. Given the string \"Hello, World!\", extract the substring \"World\"."
   ]
  },
  {
   "cell_type": "code",
   "execution_count": 9,
   "id": "35872b31-f869-46e6-8dbf-691649d2c093",
   "metadata": {},
   "outputs": [
    {
     "name": "stdout",
     "output_type": "stream",
     "text": [
      "World\n"
     ]
    }
   ],
   "source": [
    "str=\"Hello,World!\"\n",
    "print(str[6:11])"
   ]
  },
  {
   "cell_type": "code",
   "execution_count": null,
   "id": "590d0c52-8e61-4d0a-87b0-66e893f9d821",
   "metadata": {},
   "outputs": [],
   "source": []
  }
 ],
 "metadata": {
  "kernelspec": {
   "display_name": "Python 3 (ipykernel)",
   "language": "python",
   "name": "python3"
  },
  "language_info": {
   "codemirror_mode": {
    "name": "ipython",
    "version": 3
   },
   "file_extension": ".py",
   "mimetype": "text/x-python",
   "name": "python",
   "nbconvert_exporter": "python",
   "pygments_lexer": "ipython3",
   "version": "3.10.8"
  }
 },
 "nbformat": 4,
 "nbformat_minor": 5
}
